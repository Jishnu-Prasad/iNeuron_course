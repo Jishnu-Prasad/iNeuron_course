{
 "cells": [
  {
   "cell_type": "markdown",
   "metadata": {},
   "source": [
    "Assignment_2"
   ]
  },
  {
   "cell_type": "markdown",
   "metadata": {},
   "source": [
    "    1.What are the two values of the Boolean data type? How do you write them?\n",
    "    Ans: Two values of Boolean data type are True ande False, where True denotes 1 and False denotes 0 in arithmetic operations.\n",
    "\n",
    "    e.g. flag_1 = True\n",
    "        flag_2 = False"
   ]
  },
  {
   "cell_type": "markdown",
   "metadata": {},
   "source": [
    "     2.What are the three different types of Boolean operators?\n",
    "     Ans: Three different types of Boolean operators are: AND, OR, NOT."
   ]
  },
  {
   "cell_type": "markdown",
   "metadata": {},
   "source": [
    "    3. Make a list of each Boolean operator's truth tables (i.e. every possible combination of Boolean values for the operator and what it evaluate ).\n",
    "    Ans:\n",
    "    1. AND ->   0  0  - 0\n",
    "                0  1  - 0\n",
    "                1  0  - 0\n",
    "                1  1  - 1\n",
    "                \n",
    "    2. OR ->    0  0  - 0\n",
    "                0  1  - 1\n",
    "                1  0  - 1\n",
    "                1  1  - 1\n",
    "                \n",
    "    3. NOT ->   0 - 1\n",
    "                1 - 0"
   ]
  },
  {
   "cell_type": "markdown",
   "metadata": {},
   "source": [
    "    4. What are the values of the following expressions?\n",
    "    Ans:\n",
    "    \n",
    "    (5 > 4) and (3 == 5)\n",
    "    False\n",
    "    \n",
    "    not (5 > 4)\n",
    "    False\n",
    "    \n",
    "    (5 > 4) or (3 == 5)\n",
    "    True\n",
    "    \n",
    "    (True and True) and (True == False)\n",
    "    False\n",
    "    \n",
    "    (not False) or (not True)\n",
    "    True"
   ]
  },
  {
   "cell_type": "markdown",
   "metadata": {},
   "source": [
    "    5. What are the six comparison operators?\n",
    "    Ans: >    greater than\n",
    "         <    less than\n",
    "         ==   equal to\n",
    "         >=   greater than or equal to\n",
    "         <=   less than or equal to\n",
    "         !=   not equal to\n"
   ]
  },
  {
   "cell_type": "markdown",
   "metadata": {},
   "source": [
    "    6. How do you tell the difference between the equal to and assignment operators?Describe a condition and when you would use one.\n",
    "    Ans: differences:- \n",
    "        1. equal to is denoted by '=='  and assignment operator is denoted by '='\n",
    "        2. == is used as a comparison operator whereas = is used for assigning value to a variable.\n",
    "        \n",
    "        eg: number = 7\n",
    "            \n",
    "            if number == 7:\n",
    "                print(\" The number is 7\")\n",
    "            \n",
    "         In the above code variable \"number\" is assigned the value of 7, and the if condition checks whether the number is equal to 7. If True, print statement is executed,\n",
    "         else it doesn't enter the loop.\n",
    "            "
   ]
  },
  {
   "cell_type": "code",
   "execution_count": 3,
   "metadata": {},
   "outputs": [
    {
     "name": "stdout",
     "output_type": "stream",
     "text": [
      "ham\n",
      "spam\n",
      "spam\n"
     ]
    }
   ],
   "source": [
    "#7. Identify the three blocks in this code:\n",
    "\n",
    "spam = 0\n",
    "\n",
    "# BLOCK 1\n",
    "if spam == 10:\n",
    "    print('eggs')\n",
    "\n",
    "# BLOCK 2\n",
    "if spam > 5:\n",
    "    print('bacon')\n",
    "\n",
    "# BLOCK 3\n",
    "else:\n",
    "    print('ham')\n",
    "    print('spam')\n",
    "    print('spam')"
   ]
  },
  {
   "cell_type": "code",
   "execution_count": 4,
   "metadata": {},
   "outputs": [
    {
     "name": "stdin",
     "output_type": "stream",
     "text": [
      "Enter a number:  2\n"
     ]
    },
    {
     "name": "stdout",
     "output_type": "stream",
     "text": [
      "Howdy\n"
     ]
    }
   ],
   "source": [
    "# 8. Write code that prints Hello if 1 is stored in spam, prints Howdy if 2 is stored in spam, and prints Greetings! if anything else is stored in spam.\n",
    "\n",
    "spam = int(input(\"Enter a number: \"))\n",
    "\n",
    "if spam == 1:\n",
    "    print(\"Hello\")\n",
    "elif spam == 2:\n",
    "    print(\"Howdy\")\n",
    "else:\n",
    "    print(\"Greetings!\")"
   ]
  },
  {
   "cell_type": "markdown",
   "metadata": {},
   "source": [
    "     9.If your programme is stuck in an endless loop, what keys you’ll press?\n",
    "    Ans: Ctrl + C"
   ]
  },
  {
   "cell_type": "markdown",
   "metadata": {},
   "source": [
    "    10. How can you tell the difference between break and continue?\n",
    "    Ans: Break statement is used for terminating a loop.\n",
    "    Continue statement skips the particular iteration and control goes back to the loop."
   ]
  },
  {
   "cell_type": "markdown",
   "metadata": {},
   "source": [
    "    11. In a for loop, what is the difference between range(10), range(0, 10), and range(0, 10, 1)?\n",
    "    Ans: range(10), range(0, 10), and range(0, 10, 1) all three are same.\n",
    "        The function has three arguments range(start, stop, step) where default value of start is 0 and step is 1, whereas stop is a mandatory argument."
   ]
  },
  {
   "cell_type": "code",
   "execution_count": 5,
   "metadata": {},
   "outputs": [
    {
     "name": "stdout",
     "output_type": "stream",
     "text": [
      "1\n",
      "2\n",
      "3\n",
      "4\n",
      "5\n",
      "6\n",
      "7\n",
      "8\n",
      "9\n",
      "10\n",
      "1\n",
      "2\n",
      "3\n",
      "4\n",
      "5\n",
      "6\n",
      "7\n",
      "8\n",
      "9\n",
      "10\n"
     ]
    }
   ],
   "source": [
    "# 12. Write a short program that prints the numbers 1 to 10 using a for loop. Then write an equivalent program that prints the numbers 1 to 10 using a while loop.\n",
    "\n",
    "# for loop\n",
    "\n",
    "for number in range(1, 11):\n",
    "    print(number)\n",
    "\n",
    "# while loop\n",
    "\n",
    "number = 1\n",
    "while number <= 10:\n",
    "    print(number)\n",
    "    number += 1\n"
   ]
  },
  {
   "cell_type": "markdown",
   "metadata": {},
   "source": [
    "    13. If you had a function named bacon() inside a module named spam, how would you call it after importing spam?\n",
    "    Ans: import spam\n",
    "        spam.bacon()\n"
   ]
  }
 ],
 "metadata": {
  "kernelspec": {
   "display_name": "Python 3",
   "language": "python",
   "name": "python3"
  },
  "language_info": {
   "codemirror_mode": {
    "name": "ipython",
    "version": 3
   },
   "file_extension": ".py",
   "mimetype": "text/x-python",
   "name": "python",
   "nbconvert_exporter": "python",
   "pygments_lexer": "ipython3",
   "version": "3.8.5"
  }
 },
 "nbformat": 4,
 "nbformat_minor": 4
}
