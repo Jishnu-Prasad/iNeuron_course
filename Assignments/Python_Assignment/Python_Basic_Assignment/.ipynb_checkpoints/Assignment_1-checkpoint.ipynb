{
 "cells": [
  {
   "cell_type": "markdown",
   "metadata": {},
   "source": [
    "\n",
    "    Assignment_1"
   ]
  },
  {
   "cell_type": "markdown",
   "metadata": {},
   "source": [
    "    1. In the below elements which of them are values or an expression? eg:- values can be integer or string and expressions will be mathematical operators.\n",
    "\n",
    "\n",
    "    * \n",
    "    \"hello\"\n",
    "    -87.8\n",
    "    - \n",
    "    / \n",
    "    +\n",
    "    6 \n",
    "\n",
    "    Ans:\n",
    "\n",
    "    values:  \"hello\"\n",
    "        -87.8\n",
    "        6\n",
    "\n",
    "    expressions -> combination of values (literals) and operators\n",
    "    e.g. -87.6 + 6\n",
    "     -87.6 / 6\n",
    "     \"hello\" * 6\n",
    "     \"hello\" + \"hello\"\n"
   ]
  },
  {
   "cell_type": "markdown",
   "metadata": {},
   "source": [
    "    2. What is the difference between string and variable?\n",
    "\n",
    "    Ans:\n",
    "    String is a type of data whereas \"Variable\" is a temporary  storage for storing values of different types of data like string, integer, boolean etc.\n",
    "    string is denoted using \"\" or ''\n",
    "\n",
    "\n",
    "    e.g. name = \"Jishnu\"\n",
    "\n",
    "    here name represents variable name which holds string value Jishnu.\n"
   ]
  },
  {
   "cell_type": "markdown",
   "metadata": {},
   "source": [
    "    3. Describe three different data types.\n",
    "\n",
    "    Ans:\n",
    "    1. int -> Int, or integer is a numerical datatype which consists of whole number, positive or negative, without any decimals.\n",
    "    e.g. number = 29\n",
    "\n",
    "    2. float -> Float, or \"floating point number\" is a numerical datatype which may be positive or negative, containing one or more decimals.\n",
    "    e.g. number2 = 7.5\n",
    "\n",
    "    3.bool -> Booleans represent one of two values: True or False\n",
    "    It is used for evaluating an expression.\n",
    "       e.g. 40 > 30 evaluates to True\n",
    "      40 < 30 evaluates to False"
   ]
  },
  {
   "cell_type": "markdown",
   "metadata": {},
   "source": [
    "    4. What is an expression made up of? What do all expressions do?\n",
    "    Ans: An expression is a combination of values, variables, operators, and calls to functions. Expressions need to be evaluated."
   ]
  },
  {
   "cell_type": "markdown",
   "metadata": {},
   "source": [
    "    5. This assignment statements, like spam = 10. What is the difference between an expression and a statement?\n",
    "    Ans: A statement is an instruction that the Python interpreter can execute.\n",
    "    An expression is a combination of values, variables, operators, and calls to functions. Expressions need to be evaluated."
   ]
  },
  {
   "cell_type": "code",
   "execution_count": 79,
   "metadata": {},
   "outputs": [
    {
     "data": {
      "text/plain": [
       "23"
      ]
     },
     "execution_count": 79,
     "metadata": {},
     "output_type": "execute_result"
    }
   ],
   "source": [
    "''' 6. After running the following code, what does the variable bacon contain?\n",
    "bacon = 22\n",
    "bacon + 1 '''\n",
    "\n",
    "# Ans\n",
    "bacon = 22\n",
    "bacon + 1"
   ]
  },
  {
   "cell_type": "code",
   "execution_count": 80,
   "metadata": {},
   "outputs": [
    {
     "data": {
      "text/plain": [
       "'spamspamspam'"
      ]
     },
     "execution_count": 80,
     "metadata": {},
     "output_type": "execute_result"
    }
   ],
   "source": [
    "\"\"\" 7. What should the values of the following two terms be?\n",
    "'spam' + 'spamspam'\n",
    "'spam' * 3 \"\"\"\n",
    "\n",
    "# Ans\n",
    "'spam' + 'spamspam'"
   ]
  },
  {
   "cell_type": "code",
   "execution_count": 81,
   "metadata": {},
   "outputs": [
    {
     "data": {
      "text/plain": [
       "'spamspamspam'"
      ]
     },
     "execution_count": 81,
     "metadata": {},
     "output_type": "execute_result"
    }
   ],
   "source": [
    "'spam' * 3"
   ]
  },
  {
   "cell_type": "markdown",
   "metadata": {},
   "source": [
    "    8. Why is eggs a valid variable name while 100 is invalid?\n",
    "    Ans: eggs is a valid variable name while 100 is invalid because 100 is a number and rules for variable naming convention states that:\n",
    "    1. A variable name must start with a letter or the _ underscore character \n",
    "    2. A variable name cannot start with a number."
   ]
  },
  {
   "cell_type": "markdown",
   "metadata": {},
   "source": [
    "    9. What three functions can be used to get the integer, floating-point number, or string version of a value?\n",
    "    Ans: int() for integers \n",
    "     float() for floating point number \n",
    "     str() for string value"
   ]
  },
  {
   "cell_type": "code",
   "execution_count": 82,
   "metadata": {},
   "outputs": [
    {
     "data": {
      "text/plain": [
       "5"
      ]
     },
     "execution_count": 82,
     "metadata": {},
     "output_type": "execute_result"
    }
   ],
   "source": [
    "int(5.0)"
   ]
  },
  {
   "cell_type": "code",
   "execution_count": 83,
   "metadata": {},
   "outputs": [
    {
     "data": {
      "text/plain": [
       "6.0"
      ]
     },
     "execution_count": 83,
     "metadata": {},
     "output_type": "execute_result"
    }
   ],
   "source": [
    "float(6)"
   ]
  },
  {
   "cell_type": "code",
   "execution_count": 84,
   "metadata": {},
   "outputs": [
    {
     "data": {
      "text/plain": [
       "'1'"
      ]
     },
     "execution_count": 84,
     "metadata": {},
     "output_type": "execute_result"
    }
   ],
   "source": [
    "str(1)"
   ]
  },
  {
   "cell_type": "markdown",
   "metadata": {},
   "source": [
    "    10. Why does this expression cause an error? How can you fix it?\n",
    "    'I have eaten ' + 99 + ' burritos.'\n",
    "    Ans:\n",
    "    It gives error because of concatenation of different datatypes like string and  int. It can be fixed in two ways:\n",
    "    1. type casting-> str(99)\n",
    "    2. adding ' ' around 99 to make it a string.\n"
   ]
  },
  {
   "cell_type": "code",
   "execution_count": 85,
   "metadata": {},
   "outputs": [
    {
     "data": {
      "text/plain": [
       "'I have eaten 99 burritos.'"
      ]
     },
     "execution_count": 85,
     "metadata": {},
     "output_type": "execute_result"
    }
   ],
   "source": [
    "'I have eaten ' + str(99) + ' burritos.'"
   ]
  },
  {
   "cell_type": "code",
   "execution_count": 86,
   "metadata": {},
   "outputs": [
    {
     "data": {
      "text/plain": [
       "'I have eaten 99 burritos.'"
      ]
     },
     "execution_count": 86,
     "metadata": {},
     "output_type": "execute_result"
    }
   ],
   "source": [
    "'I have eaten ' + '99' + ' burritos.'"
   ]
  },
  {
   "cell_type": "code",
   "execution_count": null,
   "metadata": {},
   "outputs": [],
   "source": []
  },
  {
   "cell_type": "code",
   "execution_count": null,
   "metadata": {},
   "outputs": [],
   "source": []
  }
 ],
 "metadata": {
  "kernelspec": {
   "display_name": "Python 3",
   "language": "python",
   "name": "python3"
  },
  "language_info": {
   "codemirror_mode": {
    "name": "ipython",
    "version": 3
   },
   "file_extension": ".py",
   "mimetype": "text/x-python",
   "name": "python",
   "nbconvert_exporter": "python",
   "pygments_lexer": "ipython3",
   "version": "3.8.5"
  }
 },
 "nbformat": 4,
 "nbformat_minor": 4
}
