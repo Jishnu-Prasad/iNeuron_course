{
 "cells": [
  {
   "cell_type": "markdown",
   "metadata": {},
   "source": [
    "Programming_Assingment5"
   ]
  },
  {
   "cell_type": "code",
   "execution_count": 1,
   "metadata": {},
   "outputs": [
    {
     "name": "stdin",
     "output_type": "stream",
     "text": [
      "Enter first number:  25\n",
      "Enter second number:  5\n"
     ]
    },
    {
     "name": "stdout",
     "output_type": "stream",
     "text": [
      "The LCM of 25 and 5 is 25\n"
     ]
    }
   ],
   "source": [
    "# 1.Write a Python Program to Find LCM?\n",
    "\n",
    "num1 = int(input(\"Enter first number: \"))\n",
    "num2 = int(input(\"Enter second number: \"))\n",
    "\n",
    "def find_lcm(x, y):\n",
    "    if x > y:\n",
    "        greater = x\n",
    "    else:\n",
    "        greater = y\n",
    "    \n",
    "    while(True):\n",
    "        if(greater % x == 0) and (greater % y == 0):\n",
    "            lcm = greater\n",
    "            break\n",
    "        greater += 1            \n",
    "    return lcm\n",
    "print(\"The LCM of {} and {} is {}\".format(num1, num2, find_lcm(num1, num2)))"
   ]
  },
  {
   "cell_type": "code",
   "execution_count": 2,
   "metadata": {},
   "outputs": [
    {
     "name": "stdin",
     "output_type": "stream",
     "text": [
      "Enter first number:  60\n",
      "Enter second number:  12\n"
     ]
    },
    {
     "name": "stdout",
     "output_type": "stream",
     "text": [
      "The HCF of 60 and 12 is 12\n"
     ]
    }
   ],
   "source": [
    "# Write a Python Program to Find HCF?\n",
    "\n",
    "num1 = int(input(\"Enter first number: \"))\n",
    "num2 = int(input(\"Enter second number: \"))\n",
    "\n",
    "def find_hcf(x, y):\n",
    "    if x < y:\n",
    "        smaller = x\n",
    "    else:\n",
    "        smaller = y\n",
    "    for i in range(1, smaller + 1):\n",
    "        if (x % i == 0) and (y % i == 0):\n",
    "            hcf = i\n",
    "    return hcf\n",
    "\n",
    "print(\"The HCF of {} and {} is {}\".format(num1, num2, find_hcf(num1, num2)))\n"
   ]
  },
  {
   "cell_type": "code",
   "execution_count": 3,
   "metadata": {},
   "outputs": [
    {
     "name": "stdin",
     "output_type": "stream",
     "text": [
      "Enter decimal number:  29\n"
     ]
    },
    {
     "name": "stdout",
     "output_type": "stream",
     "text": [
      "The decimal value of 29 is 0b11101 in binary, 0o35 in Octal and 0x1d in hexadecimal.\n"
     ]
    }
   ],
   "source": [
    "# Write a Python Program to Convert Decimal to Binary, Octal and Hexadecimal?\n",
    "\n",
    "decimal = int(input(\"Enter decimal number: \"))\n",
    "binary = bin(decimal)\n",
    "octal = oct(decimal)\n",
    "hexadecimal = hex(decimal)\n",
    "\n",
    "print(\"The decimal value of {} is {} in binary, {} in Octal and {} in hexadecimal.\".format(decimal, binary, octal, hexadecimal))\n"
   ]
  },
  {
   "cell_type": "code",
   "execution_count": 4,
   "metadata": {},
   "outputs": [
    {
     "name": "stdin",
     "output_type": "stream",
     "text": [
      "Enter a character:  B\n"
     ]
    },
    {
     "name": "stdout",
     "output_type": "stream",
     "text": [
      "The ASCII value of B is 66.\n"
     ]
    }
   ],
   "source": [
    "# Write a Python Program To Find ASCII value of a character?\n",
    "\n",
    "char = input(\"Enter a character: \")\n",
    "asci = ord(char)\n",
    "print(\"The ASCII value of {} is {}.\". format(char, asci))"
   ]
  },
  {
   "cell_type": "code",
   "execution_count": 5,
   "metadata": {},
   "outputs": [
    {
     "name": "stdout",
     "output_type": "stream",
     "text": [
      "Select option: \n",
      " 1. Add \n",
      " 2. Multiply \n",
      " 3. Subtract \n",
      " 4. Divide \n"
     ]
    },
    {
     "name": "stdin",
     "output_type": "stream",
     "text": [
      "Enter your choice (1/2/3/4) : 2\n",
      "Enter first number:  25\n",
      "Enter second number:  3\n"
     ]
    },
    {
     "name": "stdout",
     "output_type": "stream",
     "text": [
      "Multiplication of 25 and 3 is 75.\n"
     ]
    }
   ],
   "source": [
    "# 5.Write a Python Program to Make a Simple Calculator with 4 basic mathematical operations?\n",
    "\n",
    "\n",
    "def add(x, y):\n",
    "    return x + y\n",
    "\n",
    "def multiply(x, y):\n",
    "    return x * y\n",
    "\n",
    "def subtract(x, y):\n",
    "    return x - y\n",
    "\n",
    "def divide(x, y):\n",
    "    return x / y\n",
    "\n",
    "print(\"Select option: \\n 1. Add \\n 2. Multiply \\n 3. Subtract \\n 4. Divide \")\n",
    "choice = int(input(\"Enter your choice (1/2/3/4) :\"))\n",
    "\n",
    "num1 = int(input(\"Enter first number: \"))\n",
    "num2 = int(input(\"Enter second number: \"))\n",
    "\n",
    "if choice == 1:\n",
    "    print(\"Addition of {} and {} is {}.\".format(num1, num2, add(num1, num2)))\n",
    "elif choice == 2:\n",
    "    print(\"Multiplication of {} and {} is {}.\".format(num1, num2, multiply(num1, num2)))\n",
    "elif choice == 3:\n",
    "    print(\"Subtraction of {} and {} is {}.\".format(num1, num2, subtract(num1, num2)))\n",
    "elif choice == 4:\n",
    "    print(\"Division of {} and {} is {}.\".format(num1, num2, divide(num1, num2)))\n",
    "else:\n",
    "    print(\"Entered choice is Invalid\")"
   ]
  },
  {
   "cell_type": "code",
   "execution_count": null,
   "metadata": {},
   "outputs": [],
   "source": []
  }
 ],
 "metadata": {
  "kernelspec": {
   "display_name": "Python 3",
   "language": "python",
   "name": "python3"
  },
  "language_info": {
   "codemirror_mode": {
    "name": "ipython",
    "version": 3
   },
   "file_extension": ".py",
   "mimetype": "text/x-python",
   "name": "python",
   "nbconvert_exporter": "python",
   "pygments_lexer": "ipython3",
   "version": "3.8.5"
  }
 },
 "nbformat": 4,
 "nbformat_minor": 4
}
