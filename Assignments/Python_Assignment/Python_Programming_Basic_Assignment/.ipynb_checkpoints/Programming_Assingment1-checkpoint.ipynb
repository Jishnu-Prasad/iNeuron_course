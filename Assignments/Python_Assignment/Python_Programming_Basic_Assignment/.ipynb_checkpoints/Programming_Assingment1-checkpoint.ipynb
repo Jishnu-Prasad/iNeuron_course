{
 "cells": [
  {
   "cell_type": "markdown",
   "metadata": {},
   "source": [
    "Programming_Assingment1"
   ]
  },
  {
   "cell_type": "code",
   "execution_count": 31,
   "metadata": {},
   "outputs": [
    {
     "name": "stdout",
     "output_type": "stream",
     "text": [
      "Hello Python\n"
     ]
    }
   ],
   "source": [
    "# 1.Write a Python program to print \"Hello Python\"?\n",
    "\n",
    "print(\"Hello Python\")"
   ]
  },
  {
   "cell_type": "code",
   "execution_count": 32,
   "metadata": {},
   "outputs": [
    {
     "name": "stdin",
     "output_type": "stream",
     "text": [
      "Enter first number:  100\n",
      "Enter second number:  20\n"
     ]
    },
    {
     "name": "stdout",
     "output_type": "stream",
     "text": [
      "Addition of 100 and 20 is 120\n",
      "Division of 100 by 20 is 5.0\n"
     ]
    }
   ],
   "source": [
    "# 2.Write a Python program to do arithmetical operations addition and division.?\n",
    "\n",
    "num1 = int(input(\"Enter first number: \"))\n",
    "num2 = int(input(\"Enter second number: \"))\n",
    "\n",
    "print(\"Addition of {} and {} is {}\".format(num1, num2, num1 + num2))\n",
    "print(\"Division of {} by {} is {}\".format(num1, num2, num1 / num2))"
   ]
  },
  {
   "cell_type": "code",
   "execution_count": 33,
   "metadata": {},
   "outputs": [
    {
     "name": "stdin",
     "output_type": "stream",
     "text": [
      "Enter base in cm:  5\n",
      "Enter height in cm:  10\n"
     ]
    },
    {
     "name": "stdout",
     "output_type": "stream",
     "text": [
      "Area of triangle is 25.0 cm square\n"
     ]
    }
   ],
   "source": [
    "# 3.Write a Python program to find the area of a triangle?\n",
    "\n",
    "base = int(input(\"Enter base in cm: \"))\n",
    "height = int(input(\"Enter height in cm: \"))\n",
    "\n",
    "area = base * height/2\n",
    "print(\"Area of triangle is {} cm square\".format(area))"
   ]
  },
  {
   "cell_type": "code",
   "execution_count": 35,
   "metadata": {},
   "outputs": [
    {
     "name": "stdin",
     "output_type": "stream",
     "text": [
      "Enter first variable:  50\n",
      "Enter second variable:  20\n"
     ]
    },
    {
     "name": "stdout",
     "output_type": "stream",
     "text": [
      "Before swapping, first variable is 50 and second variable is 20 \n",
      "After swapping, first variable is 20 and second variable is 50 \n"
     ]
    }
   ],
   "source": [
    "# 4.Write a Python program to swap two variables?\n",
    "\n",
    "var1 = input(\"Enter first variable: \")\n",
    "var2 = input(\"Enter second variable: \")\n",
    "print(\"Before swapping, first variable is {} and second variable is {} \".format(var1, var2))\n",
    "\n",
    "temp = var1           \n",
    "var1 = var2          \n",
    "var2 = temp\n",
    "\n",
    "print(\"After swapping, first variable is {} and second variable is {} \".format(var1, var2))"
   ]
  },
  {
   "cell_type": "code",
   "execution_count": 36,
   "metadata": {},
   "outputs": [
    {
     "name": "stdout",
     "output_type": "stream",
     "text": [
      "10\n"
     ]
    }
   ],
   "source": [
    "# 5.Write a Python program to generate a random number?\n",
    "\n",
    "from random import randint\n",
    "\n",
    "print(randint(1,10))        # this code will generate a random integer between 1 and 10 including both."
   ]
  },
  {
   "cell_type": "code",
   "execution_count": null,
   "metadata": {},
   "outputs": [],
   "source": []
  }
 ],
 "metadata": {
  "kernelspec": {
   "display_name": "Python 3",
   "language": "python",
   "name": "python3"
  },
  "language_info": {
   "codemirror_mode": {
    "name": "ipython",
    "version": 3
   },
   "file_extension": ".py",
   "mimetype": "text/x-python",
   "name": "python",
   "nbconvert_exporter": "python",
   "pygments_lexer": "ipython3",
   "version": "3.8.5"
  }
 },
 "nbformat": 4,
 "nbformat_minor": 4
}
