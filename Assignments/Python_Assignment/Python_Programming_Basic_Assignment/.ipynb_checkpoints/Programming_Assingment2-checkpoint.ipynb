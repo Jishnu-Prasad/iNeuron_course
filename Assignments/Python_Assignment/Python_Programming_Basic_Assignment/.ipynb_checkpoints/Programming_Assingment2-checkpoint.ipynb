{
 "cells": [
  {
   "cell_type": "markdown",
   "metadata": {},
   "source": [
    "Programming_Assingment2"
   ]
  },
  {
   "cell_type": "code",
   "execution_count": 1,
   "metadata": {},
   "outputs": [
    {
     "name": "stdin",
     "output_type": "stream",
     "text": [
      "Enter Kilometers:  10\n"
     ]
    },
    {
     "name": "stdout",
     "output_type": "stream",
     "text": [
      "10.0 kilometers is equal to 6.2139999999999995 miles. \n"
     ]
    }
   ],
   "source": [
    "# 1.Write a Python program to convert kilometers to miles?\n",
    "\n",
    "kilometers = float(input(\"Enter Kilometers: \"))\n",
    "miles = kilometers * 0.6214                        # 1 kilometer = 0.6214 miles\n",
    "\n",
    "print(\"{} kilometers is equal to {} miles. \".format(kilometers, miles))"
   ]
  },
  {
   "cell_type": "code",
   "execution_count": 2,
   "metadata": {},
   "outputs": [
    {
     "name": "stdin",
     "output_type": "stream",
     "text": [
      "Enter degree Celsius:  5\n"
     ]
    },
    {
     "name": "stdout",
     "output_type": "stream",
     "text": [
      "5.0 degree Celsius is equal to 41.0 degree Fahrenheit. \n"
     ]
    }
   ],
   "source": [
    "# 2.Write a Python program to convert Celsius to Fahrenheit?\n",
    "\n",
    "Celsius = float(input(\"Enter degree Celsius: \"))\n",
    "\n",
    "Fahrenheit = 9*Celsius/5 +32\n",
    "\n",
    "print(\"{} degree Celsius is equal to {} degree Fahrenheit. \".format(Celsius, Fahrenheit))"
   ]
  },
  {
   "cell_type": "code",
   "execution_count": 4,
   "metadata": {},
   "outputs": [
    {
     "name": "stdin",
     "output_type": "stream",
     "text": [
      "Enter year you want to view:  2021\n",
      "Enter month (1 - 12):  12\n"
     ]
    },
    {
     "name": "stdout",
     "output_type": "stream",
     "text": [
      "   December 2021\n",
      "Mo Tu We Th Fr Sa Su\n",
      "       1  2  3  4  5\n",
      " 6  7  8  9 10 11 12\n",
      "13 14 15 16 17 18 19\n",
      "20 21 22 23 24 25 26\n",
      "27 28 29 30 31\n",
      "\n"
     ]
    }
   ],
   "source": [
    "# 3.Write a Python program to display calendar?\n",
    "\n",
    "import calendar\n",
    "\n",
    "yyyy = int(input(\"Enter year you want to view: \"))\n",
    "mm = int(input(\"Enter month (1 - 12): \"))\n",
    "\n",
    "print(calendar.month(yyyy, mm))"
   ]
  },
  {
   "cell_type": "code",
   "execution_count": 5,
   "metadata": {},
   "outputs": [
    {
     "name": "stdin",
     "output_type": "stream",
     "text": [
      "Enter value of a:  2\n",
      "Enter value of b:  5\n",
      "Enter value of c:  6\n"
     ]
    },
    {
     "name": "stdout",
     "output_type": "stream",
     "text": [
      "The roots of quadratic equation (2x**2 + 5x + 6) are: (-5+4.795831523312719j) and (-5-4.795831523312719j)\n"
     ]
    }
   ],
   "source": [
    "# 4.Write a Python program to solve quadratic equation?\n",
    "\n",
    "\"\"\"\n",
    "The standard form of a quadratic equation is: ax**2 + bx + c = 0, where\n",
    "a, b and c are real numbers and a ≠ 0.\n",
    "\n",
    "The solutions of this quadratic equation is given by:\n",
    "\n",
    "(-b ± (b ** 2 - 4 * a * c) ** 0.5) / 2 * a\n",
    "\n",
    "or (-b ± cmath.sqrt(b ** 2 - 4 * a * c)) / 2 * a   for complex roots.\n",
    "\"\"\"\n",
    "\n",
    "import cmath          # imported cmath module to perform complex square root\n",
    "\n",
    "a = int(input(\"Enter value of a: \"))\n",
    "b = int(input(\"Enter value of b: \"))\n",
    "c = int(input(\"Enter value of c: \"))\n",
    "\n",
    "\n",
    "\n",
    "sol1 = (-b + cmath.sqrt(b ** 2 - 4 * a * c)) / 2 * a\n",
    "sol2 = (-b - cmath.sqrt(b ** 2 - 4 * a * c)) / 2 * a\n",
    "\n",
    "print( \"The roots of quadratic equation ({}x**2 + {}x + {}) are: {} and {}\". format(a, b, c, sol1, sol2) )"
   ]
  },
  {
   "cell_type": "code",
   "execution_count": 6,
   "metadata": {},
   "outputs": [
    {
     "name": "stdin",
     "output_type": "stream",
     "text": [
      "Enter first variable:  10\n",
      "Enter second variable:  7\n"
     ]
    },
    {
     "name": "stdout",
     "output_type": "stream",
     "text": [
      "Before swapping, first variable is 10 and second variable is 7 \n",
      "After swapping, first variable is 7 and second variable is 10 \n"
     ]
    }
   ],
   "source": [
    "# 5.Write a Python program to swap two variables without temp variable?\n",
    "\n",
    "var1 = input(\"Enter first variable: \")\n",
    "var2 = input(\"Enter second variable: \")\n",
    "print(\"Before swapping, first variable is {} and second variable is {} \".format(var1, var2))\n",
    "\n",
    "var1, var2 = var2, var1\n",
    "\n",
    "print(\"After swapping, first variable is {} and second variable is {} \".format(var1, var2))"
   ]
  },
  {
   "cell_type": "code",
   "execution_count": null,
   "metadata": {},
   "outputs": [],
   "source": []
  }
 ],
 "metadata": {
  "kernelspec": {
   "display_name": "Python 3",
   "language": "python",
   "name": "python3"
  },
  "language_info": {
   "codemirror_mode": {
    "name": "ipython",
    "version": 3
   },
   "file_extension": ".py",
   "mimetype": "text/x-python",
   "name": "python",
   "nbconvert_exporter": "python",
   "pygments_lexer": "ipython3",
   "version": "3.8.5"
  }
 },
 "nbformat": 4,
 "nbformat_minor": 4
}
